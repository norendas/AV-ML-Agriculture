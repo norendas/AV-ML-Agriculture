{
 "cells": [
  {
   "cell_type": "code",
   "execution_count": 1,
   "metadata": {},
   "outputs": [],
   "source": [
    "#Importing libraries\n",
    "import numpy as np\n",
    "import pandas as pd"
   ]
  },
  {
   "cell_type": "code",
   "execution_count": 2,
   "metadata": {},
   "outputs": [],
   "source": [
    "df_train = pd.read_csv('train_yaOffsB.csv', index_col='ID')\n",
    "df_test = pd.read_csv('test_pFkWwen.csv', index_col='ID')\n",
    "sample = pd.read_csv('sample_submission_O1oDc4H.csv')\n",
    "X = df_train.iloc[:,:-1]\n",
    "y = df_train.iloc[:,-1]\n",
    "label = df_train['Crop_Damage']\n",
    "data = X.append(df_test)"
   ]
  },
  {
   "cell_type": "code",
   "execution_count": 3,
   "metadata": {},
   "outputs": [
    {
     "data": {
      "text/plain": [
       "((88858, 9), (59310, 8), (148168, 8), (88858,))"
      ]
     },
     "execution_count": 3,
     "metadata": {},
     "output_type": "execute_result"
    }
   ],
   "source": [
    "df_train.shape, df_test.shape, data.shape, label.shape"
   ]
  },
  {
   "cell_type": "code",
   "execution_count": 4,
   "metadata": {},
   "outputs": [
    {
     "data": {
      "text/plain": [
       "(Estimated_Insects_Count      int64\n",
       " Crop_Type                    int64\n",
       " Soil_Type                    int64\n",
       " Pesticide_Use_Category       int64\n",
       " Number_Doses_Week            int64\n",
       " Number_Weeks_Used          float64\n",
       " Number_Weeks_Quit            int64\n",
       " Season                       int64\n",
       " Crop_Damage                  int64\n",
       " dtype: object,\n",
       " array([0, 1, 2]))"
      ]
     },
     "execution_count": 4,
     "metadata": {},
     "output_type": "execute_result"
    }
   ],
   "source": [
    "df_train.dtypes, label.unique()"
   ]
  },
  {
   "cell_type": "code",
   "execution_count": 5,
   "metadata": {},
   "outputs": [
    {
     "data": {
      "text/plain": [
       "(Estimated_Insects_Count        0\n",
       " Crop_Type                      0\n",
       " Soil_Type                      0\n",
       " Pesticide_Use_Category         0\n",
       " Number_Doses_Week              0\n",
       " Number_Weeks_Used          14893\n",
       " Number_Weeks_Quit              0\n",
       " Season                         0\n",
       " dtype: int64,\n",
       "            Estimated_Insects_Count  Crop_Type  Soil_Type  \\\n",
       " ID                                                         \n",
       " F00000001                      188          1          0   \n",
       " F00000003                      209          1          0   \n",
       " F00000004                      257          1          0   \n",
       " F00000005                      257          1          1   \n",
       " F00000006                      342          1          0   \n",
       " \n",
       "            Pesticide_Use_Category  Number_Doses_Week  Number_Weeks_Used  \\\n",
       " ID                                                                        \n",
       " F00000001                       1                  0                0.0   \n",
       " F00000003                       1                  0                0.0   \n",
       " F00000004                       1                  0                0.0   \n",
       " F00000005                       1                  0                0.0   \n",
       " F00000006                       1                  0                0.0   \n",
       " \n",
       "            Number_Weeks_Quit  Season  \n",
       " ID                                    \n",
       " F00000001                  0       1  \n",
       " F00000003                  0       2  \n",
       " F00000004                  0       2  \n",
       " F00000005                  0       2  \n",
       " F00000006                  0       2  )"
      ]
     },
     "execution_count": 5,
     "metadata": {},
     "output_type": "execute_result"
    }
   ],
   "source": [
    "data.isnull().sum(), data.head()"
   ]
  },
  {
   "cell_type": "code",
   "execution_count": 6,
   "metadata": {},
   "outputs": [],
   "source": [
    "#Missing Data Imputation\n",
    "#from sklearn.impute import SimpleImputer\n",
    "#impute_mean = SimpleImputer(missing_values='nan', strategy='mean')\n",
    "#data[:,4:5]= impute_mean.fit_transform(data[:, 4:5])"
   ]
  },
  {
   "cell_type": "code",
   "execution_count": 7,
   "metadata": {},
   "outputs": [],
   "source": [
    "cols = ['ID', 'Estimated_Insects_Count', 'Crop_Type', 'Soil_Type',\n",
    "       'Pesticide_Use_Category', 'Number_Doses_Week', 'Number_Weeks_Used',\n",
    "       'Number_Weeks_Quit', 'Season', 'Crop_Damage']\n",
    "cat_cols = ['Estimated_Insects_Count', 'Crop_Type', 'Soil_Type',\n",
    "       'Pesticide_Use_Category', 'Number_Doses_Week', 'Number_Weeks_Used',\n",
    "       'Number_Weeks_Quit', 'Season']"
   ]
  },
  {
   "cell_type": "code",
   "execution_count": 8,
   "metadata": {},
   "outputs": [],
   "source": [
    "for i in data.columns:\n",
    "    data[i]= data[i].astype(str)"
   ]
  },
  {
   "cell_type": "code",
   "execution_count": 9,
   "metadata": {},
   "outputs": [
    {
     "data": {
      "text/plain": [
       "Estimated_Insects_Count    object\n",
       "Crop_Type                  object\n",
       "Soil_Type                  object\n",
       "Pesticide_Use_Category     object\n",
       "Number_Doses_Week          object\n",
       "Number_Weeks_Used          object\n",
       "Number_Weeks_Quit          object\n",
       "Season                     object\n",
       "dtype: object"
      ]
     },
     "execution_count": 9,
     "metadata": {},
     "output_type": "execute_result"
    }
   ],
   "source": [
    "data.dtypes"
   ]
  },
  {
   "cell_type": "code",
   "execution_count": 10,
   "metadata": {},
   "outputs": [],
   "source": [
    "train = data.iloc[:88858,:].values\n",
    "test = data.iloc[88858:,:].values"
   ]
  },
  {
   "cell_type": "code",
   "execution_count": 11,
   "metadata": {},
   "outputs": [],
   "source": [
    "from sklearn.model_selection import train_test_split\n",
    "from lightgbm import LGBMClassifier\n",
    "from sklearn.metrics import accuracy_score, roc_auc_score, confusion_matrix\n"
   ]
  },
  {
   "cell_type": "code",
   "execution_count": 12,
   "metadata": {},
   "outputs": [],
   "source": [
    "Xtrain, Xvalid, ytrain, yvalid = train_test_split(train, label, test_size=0.25, random_state=42)"
   ]
  },
  {
   "cell_type": "code",
   "execution_count": 32,
   "metadata": {},
   "outputs": [],
   "source": [
    "lgb = LGBMClassifier(boosting_type='gbdt', num_leaves=31, max_depth=- 1, \n",
    "                     learning_rate=0.1, n_estimators=100, subsample_for_bin=200000, \n",
    "                     objective='multiclass', class_weight=None, min_split_gain=0.0, \n",
    "                     min_child_weight=0.001, min_child_samples=20, subsample=1.0, \n",
    "                     subsample_freq=0, colsample_bytree=1.0, reg_alpha=0.0, reg_lambda=0.0, \n",
    "                     random_state=None, n_jobs=- 1, silent=True, importance_type='split')"
   ]
  },
  {
   "cell_type": "code",
   "execution_count": 33,
   "metadata": {},
   "outputs": [
    {
     "data": {
      "text/plain": [
       "LGBMClassifier(objective='multi_class:ova')"
      ]
     },
     "execution_count": 33,
     "metadata": {},
     "output_type": "execute_result"
    }
   ],
   "source": [
    "lgb.fit(Xtrain,ytrain)"
   ]
  },
  {
   "cell_type": "code",
   "execution_count": 34,
   "metadata": {},
   "outputs": [],
   "source": [
    "y_pred = lgb.predict(Xvalid)"
   ]
  },
  {
   "cell_type": "code",
   "execution_count": 35,
   "metadata": {},
   "outputs": [
    {
     "data": {
      "text/plain": [
       "((66643,), (22215, 8), (22215,), (88858, 8))"
      ]
     },
     "execution_count": 35,
     "metadata": {},
     "output_type": "execute_result"
    }
   ],
   "source": [
    "ytrain.shape,Xvalid.shape, y_pred.shape, train.shape"
   ]
  },
  {
   "cell_type": "code",
   "execution_count": 37,
   "metadata": {},
   "outputs": [
    {
     "name": "stdout",
     "output_type": "stream",
     "text": [
      "[[18219   312     0]\n",
      " [ 2560   542     3]\n",
      " [  400   178     1]] 0.8445644834571235\n"
     ]
    }
   ],
   "source": [
    "print(confusion_matrix(yvalid, y_pred), accuracy_score(yvalid,y_pred))\n"
   ]
  },
  {
   "cell_type": "code",
   "execution_count": 42,
   "metadata": {},
   "outputs": [],
   "source": [
    "y_test = lgb.predict(df_test)"
   ]
  },
  {
   "cell_type": "code",
   "execution_count": 43,
   "metadata": {},
   "outputs": [],
   "source": [
    "sample['Crop_Damage'] = y_test"
   ]
  },
  {
   "cell_type": "code",
   "execution_count": 44,
   "metadata": {},
   "outputs": [],
   "source": [
    "sample.to_csv('submit2.csv', index=False)"
   ]
  },
  {
   "cell_type": "code",
   "execution_count": null,
   "metadata": {},
   "outputs": [],
   "source": []
  }
 ],
 "metadata": {
  "kernelspec": {
   "display_name": "Python 3",
   "language": "python",
   "name": "python3"
  },
  "language_info": {
   "codemirror_mode": {
    "name": "ipython",
    "version": 3
   },
   "file_extension": ".py",
   "mimetype": "text/x-python",
   "name": "python",
   "nbconvert_exporter": "python",
   "pygments_lexer": "ipython3",
   "version": "3.7.7"
  }
 },
 "nbformat": 4,
 "nbformat_minor": 4
}
